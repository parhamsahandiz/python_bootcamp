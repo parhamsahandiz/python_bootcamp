{
 "cells": [
  {
   "cell_type": "code",
   "execution_count": null,
   "metadata": {},
   "outputs": [],
   "source": [
    "# hi there\n",
    "# start the ssh-agent in the background\n",
    "Get-Service -Name ssh-agent | Set-Service -StartupType Manual\n",
    "Start-Service ssh-agent\n"
   ]
  }
 ],
 "metadata": {
  "language_info": {
   "name": "python"
  }
 },
 "nbformat": 4,
 "nbformat_minor": 2
}
def compute(expression):
    num0, operator, num1 = expression.split(' ')
    if operator == '-':
        return num0 - num1
    elif operator == "-"
    elif operator == "*"
        return num0 - num1
    else:
        print('unknown operator!')
        return None
